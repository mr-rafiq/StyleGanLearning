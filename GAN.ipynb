{
 "cells": [
  {
   "cell_type": "markdown",
   "id": "58c97ef2",
   "metadata": {},
   "source": [
    "# Install dependencies"
   ]
  },
  {
   "cell_type": "code",
   "execution_count": 2,
   "id": "b5fc73ee",
   "metadata": {},
   "outputs": [
    {
     "name": "stdout",
     "output_type": "stream",
     "text": [
      "Looking in links: https://download.pytorch.org/whl/torch_stable.html"
     ]
    },
    {
     "name": "stderr",
     "output_type": "stream",
     "text": [
      "  WARNING: The scripts convert-caffe2-to-onnx.exe and convert-onnx-to-caffe2.exe are installed in 'C:\\Users\\mrafiq\\AppData\\Roaming\\Python\\Python39\\Scripts' which is not on PATH.\n",
      "  Consider adding this directory to PATH or, if you prefer to suppress this warning, use --no-warn-script-location.\n"
     ]
    },
    {
     "name": "stdout",
     "output_type": "stream",
     "text": [
      "\n",
      "Collecting torch===1.7.1+cu110\n",
      "  Using cached https://download.pytorch.org/whl/cu110/torch-1.7.1%2Bcu110-cp39-cp39-win_amd64.whl (2050.2 MB)\n",
      "Collecting torchvision===0.8.2+cu110\n",
      "  Using cached https://download.pytorch.org/whl/cu110/torchvision-0.8.2%2Bcu110-cp39-cp39-win_amd64.whl (1.6 MB)\n",
      "Collecting torchaudio===0.7.2\n",
      "  Using cached https://download.pytorch.org/whl/torchaudio-0.7.2-cp39-none-win_amd64.whl (103 kB)\n",
      "Requirement already satisfied: numpy in c:\\programdata\\anaconda3\\lib\\site-packages (from torch===1.7.1+cu110) (1.20.3)\n",
      "Requirement already satisfied: typing-extensions in c:\\programdata\\anaconda3\\lib\\site-packages (from torch===1.7.1+cu110) (3.10.0.2)\n",
      "Requirement already satisfied: pillow>=4.1.1 in c:\\programdata\\anaconda3\\lib\\site-packages (from torchvision===0.8.2+cu110) (8.4.0)\n",
      "Installing collected packages: torch, torchvision, torchaudio\n",
      "Successfully installed torch-1.7.1+cu110 torchaudio-0.7.2 torchvision-0.8.2+cu110\n"
     ]
    }
   ],
   "source": [
    "!pip install torch===1.7.1+cu110 torchvision===0.8.2+cu110 torchaudio===0.7.2 -f https://download.pytorch.org/whl/torch_stable.html --user\n"
   ]
  },
  {
   "cell_type": "markdown",
   "id": "ae8f8f56",
   "metadata": {},
   "source": [
    "# Download the model to train the data"
   ]
  },
  {
   "cell_type": "code",
   "execution_count": 4,
   "id": "ea2fcb4d",
   "metadata": {},
   "outputs": [
    {
     "name": "stderr",
     "output_type": "stream",
     "text": [
      "Cloning into 'stylegan2-ada-pytorch'...\n"
     ]
    }
   ],
   "source": [
    "!git clone https://github.com/NVlabs/stylegan2-ada-pytorch.git"
   ]
  },
  {
   "cell_type": "code",
   "execution_count": 6,
   "id": "fa26631c",
   "metadata": {},
   "outputs": [
    {
     "name": "stdout",
     "output_type": "stream",
     "text": [
      "Requirement already satisfied: click in c:\\programdata\\anaconda3\\lib\\site-packages (8.0.3)\n",
      "Requirement already satisfied: colorama in c:\\users\\mrafiq\\appdata\\roaming\\python\\python39\\site-packages (from click) (0.4.4)\n",
      "Requirement already satisfied: tqdm in c:\\programdata\\anaconda3\\lib\\site-packages (4.62.3)\n",
      "Requirement already satisfied: colorama in c:\\users\\mrafiq\\appdata\\roaming\\python\\python39\\site-packages (from tqdm) (0.4.4)\n",
      "Requirement already satisfied: requests in c:\\programdata\\anaconda3\\lib\\site-packages (2.27.1)\n",
      "Requirement already satisfied: charset-normalizer~=2.0.0 in c:\\programdata\\anaconda3\\lib\\site-packages (from requests) (2.0.4)\n",
      "Requirement already satisfied: idna<4,>=2.5 in c:\\programdata\\anaconda3\\lib\\site-packages (from requests) (3.3)\n",
      "Requirement already satisfied: urllib3<1.27,>=1.21.1 in c:\\programdata\\anaconda3\\lib\\site-packages (from requests) (1.26.7)\n",
      "Requirement already satisfied: certifi>=2017.4.17 in c:\\programdata\\anaconda3\\lib\\site-packages (from requests) (2021.10.8)\n",
      "Requirement already satisfied: imageio in c:\\programdata\\anaconda3\\lib\\site-packages (2.9.0)\n",
      "Requirement already satisfied: numpy in c:\\programdata\\anaconda3\\lib\\site-packages (from imageio) (1.20.3)\n",
      "Requirement already satisfied: pillow in c:\\programdata\\anaconda3\\lib\\site-packages (from imageio) (8.4.0)\n",
      "Requirement already satisfied: psutil in c:\\programdata\\anaconda3\\lib\\site-packages (5.8.0)\n",
      "Requirement already satisfied: scipy in c:\\programdata\\anaconda3\\lib\\site-packages (1.7.3)\n",
      "Requirement already satisfied: numpy<1.23.0,>=1.16.5 in c:\\programdata\\anaconda3\\lib\\site-packages (from scipy) (1.20.3)\n"
     ]
    }
   ],
   "source": [
    "!pip install click\n",
    "!pip install tqdm\n",
    "!pip install requests\n",
    "!pip install imageio\n",
    "!pip install psutil\n",
    "!pip install scipy"
   ]
  },
  {
   "cell_type": "code",
   "execution_count": 11,
   "id": "f8b08ae9",
   "metadata": {},
   "outputs": [
    {
     "name": "stdout",
     "output_type": "stream",
     "text": [
      "C:\\Users\\mrafiq\\Downloads\\Rafiq\\architecture Art Dataset\\arcDataset\\Deconstructivism\n"
     ]
    }
   ],
   "source": [
    "import pathlib\n",
    "p = pathlib. PureWindowsPath(r'C:\\Users\\mrafiq\\Downloads\\Rafiq\\architectureArtDataset\\arcDataset\\Deconstructivism')\n",
    "d = pathlib. PureWindowsPath(r'C:\\Users\\mrafiq\\Downloads\\Rafiq\\architectureArtDataset\\arcDataset\\d_train')\n",
    "print(p)"
   ]
  },
  {
   "cell_type": "code",
   "execution_count": 6,
   "id": "2970ad36",
   "metadata": {},
   "outputs": [
    {
     "name": "stderr",
     "output_type": "stream",
     "text": [
      "\n",
      "  0%|          | 0/213 [00:00<?, ?it/s]\n",
      "  4%|4         | 9/213 [00:00<00:02, 84.11it/s]\n",
      " 10%|#         | 22/213 [00:00<00:01, 108.49it/s]\n",
      " 15%|#5        | 33/213 [00:00<00:01, 96.30it/s] \n",
      " 20%|##        | 43/213 [00:00<00:01, 91.38it/s]\n",
      " 25%|##4       | 53/213 [00:00<00:01, 88.98it/s]\n",
      " 30%|###       | 64/213 [00:00<00:01, 93.95it/s]\n",
      " 35%|###5      | 75/213 [00:00<00:01, 97.02it/s]\n",
      " 41%|####      | 87/213 [00:00<00:01, 102.91it/s]\n",
      " 46%|####6     | 98/213 [00:01<00:01, 97.79it/s] \n",
      " 52%|#####1    | 110/213 [00:01<00:01, 102.89it/s]\n",
      " 57%|#####6    | 121/213 [00:01<00:00, 102.01it/s]\n",
      " 63%|######2   | 134/213 [00:01<00:00, 108.41it/s]\n",
      " 69%|######9   | 147/213 [00:01<00:00, 112.96it/s]\n",
      " 75%|#######4  | 159/213 [00:01<00:00, 114.65it/s]\n",
      " 80%|########  | 171/213 [00:01<00:00, 103.05it/s]\n",
      " 85%|########5 | 182/213 [00:01<00:00, 102.98it/s]\n",
      " 91%|######### | 193/213 [00:01<00:00, 102.38it/s]\n",
      " 96%|#########5| 204/213 [00:02<00:00, 97.99it/s] \n",
      "100%|##########| 213/213 [00:02<00:00, 100.38it/s]\n"
     ]
    }
   ],
   "source": [
    "!python stylegan2-ada-pytorch\\dataset_tool.py --source C:\\Users\\mrafiq\\Downloads\\Rafiq\\architectureArtDataset\\Code\\assets\\Deconstructivism --dest C:\\Users\\mrafiq\\Downloads\\Rafiq\\architectureArtDataset\\Code\\assets\\d_train --transform=center-crop-wide --width 256 --height=256"
   ]
  },
  {
   "cell_type": "code",
   "execution_count": 26,
   "id": "2c1de04c",
   "metadata": {},
   "outputs": [
    {
     "name": "stdout",
     "output_type": "stream",
     "text": [
      "Usage: dataset_tool.py [OPTIONS]\n",
      "\n",
      "  Convert an image dataset into a dataset archive usable with StyleGAN2 ADA\n",
      "  PyTorch.\n",
      "\n",
      "  The input dataset format is guessed from the --source argument:\n",
      "\n",
      "  --source *_lmdb/                    Load LSUN dataset\n",
      "  --source cifar-10-python.tar.gz     Load CIFAR-10 dataset\n",
      "  --source train-images-idx3-ubyte.gz Load MNIST dataset\n",
      "  --source path/                      Recursively load all images from path/\n",
      "  --source dataset.zip                Recursively load all images from dataset.zip\n",
      "\n",
      "  Specifying the output format and path:\n",
      "\n",
      "  --dest /path/to/dir                 Save output files under /path/to/dir\n",
      "  --dest /path/to/dataset.zip         Save output files into /path/to/dataset.zip\n",
      "\n",
      "  The output dataset format can be either an image folder or an uncompressed\n",
      "  zip archive. Zip archives makes it easier to move datasets around file\n",
      "  servers and clusters, and may offer better training performance on network\n",
      "  file systems.\n",
      "\n",
      "  Images within the dataset archive will be stored as uncompressed PNG.\n",
      "  Uncompresed PNGs can be efficiently decoded in the training loop.\n",
      "\n",
      "  Class labels are stored in a file called 'dataset.json' that is stored at\n",
      "  the dataset root folder.  This file has the following structure:\n",
      "\n",
      "  {\n",
      "      \"labels\": [\n",
      "          [\"00000/img00000000.png\",6],\n",
      "          [\"00000/img00000001.png\",9],\n",
      "          ... repeated for every image in the datase\n",
      "          [\"00049/img00049999.png\",1]\n",
      "      ]\n",
      "  }\n",
      "\n",
      "  If the 'dataset.json' file cannot be found, the dataset is interpreted as\n",
      "  not containing class labels.\n",
      "\n",
      "  Image scale/crop and resolution requirements:\n",
      "\n",
      "  Output images must be square-shaped and they must all have the same power-\n",
      "  of-two dimensions.\n",
      "\n",
      "  To scale arbitrary input image size to a specific width and height, use the\n",
      "  --width and --height options.  Output resolution will be either the original\n",
      "  input resolution (if --width/--height was not specified) or the one\n",
      "  specified with --width/height.\n",
      "\n",
      "  Use the --transform=center-crop or --transform=center-crop-wide options to\n",
      "  apply a center crop transform on the input image.  These options should be\n",
      "  used with the --width and --height options.  For example:\n",
      "\n",
      "  python dataset_tool.py --source LSUN/raw/cat_lmdb --dest /tmp/lsun_cat \\\n",
      "      --transform=center-crop-wide --width 512 --height=384\n",
      "\n",
      "Options:\n",
      "  --source PATH                   Directory or archive name for input dataset\n",
      "                                  [required]\n",
      "  --dest PATH                     Output directory or archive name for output\n",
      "                                  dataset  [required]\n",
      "  --max-images INTEGER            Output only up to `max-images` images\n",
      "  --resize-filter [box|lanczos]   Filter to use when resizing images for\n",
      "                                  output resolution  [default: lanczos]\n",
      "  --transform [center-crop|center-crop-wide]\n",
      "                                  Input crop/resize mode\n",
      "  --width INTEGER                 Output width\n",
      "  --height INTEGER                Output height\n",
      "  --help                          Show this message and exit.\n"
     ]
    }
   ],
   "source": [
    "!python stylegan2-ada-pytorch\\dataset_tool.py --help"
   ]
  },
  {
   "cell_type": "code",
   "execution_count": 10,
   "id": "46f61769",
   "metadata": {},
   "outputs": [
    {
     "name": "stdout",
     "output_type": "stream",
     "text": [
      "^C\n"
     ]
    }
   ],
   "source": [
    "!python stylegan2-ada-pytorch\\train.py --data C:\\Users\\mrafiq\\Downloads\\Rafiq\\architectureArtDataset\\Code\\assets\\d_train --outdir C:\\Users\\mrafiq\\Downloads\\Rafiq\\architectureArtDataset\\Code\\assets\\d_result --gpus=1 --augpipe=bg --gamma=10 --cfg=paper256 --mirror=1 --snap=10 --metrics=none"
   ]
  },
  {
   "cell_type": "code",
   "execution_count": null,
   "id": "f3c85e44",
   "metadata": {},
   "outputs": [],
   "source": []
  }
 ],
 "metadata": {
  "kernelspec": {
   "display_name": "Python 3 (ipykernel)",
   "language": "python",
   "name": "python3"
  },
  "language_info": {
   "codemirror_mode": {
    "name": "ipython",
    "version": 3
   },
   "file_extension": ".py",
   "mimetype": "text/x-python",
   "name": "python",
   "nbconvert_exporter": "python",
   "pygments_lexer": "ipython3",
   "version": "3.9.7"
  }
 },
 "nbformat": 4,
 "nbformat_minor": 5
}
